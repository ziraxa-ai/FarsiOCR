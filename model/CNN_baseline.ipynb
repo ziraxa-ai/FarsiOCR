{
 "cells": [
  {
   "cell_type": "code",
   "id": "initial_id",
   "metadata": {
    "collapsed": true,
    "ExecuteTime": {
     "end_time": "2025-09-26T15:26:55.521328Z",
     "start_time": "2025-09-26T15:26:52.734740Z"
    }
   },
   "source": [
    "from pathlib import Path\n",
    "import torch, torch.nn as nn\n",
    "from torch.utils.data import Dataset, DataLoader\n",
    "from torchvision import transforms\n",
    "from PIL import Image\n",
    "import numpy as np, pandas as pd\n",
    "import sys\n",
    "sys.path.append(\"utils\")\n",
    "import ds_utils as DU\n",
    "print(\"DU loaded from :\", DU.__file__)\n",
    "import random\n",
    "from tqdm import tqdm\n",
    "import matplotlib.pyplot as plt\n",
    "import seaborn as sns\n",
    "from sklearn.metrics import precision_recall_fscore_support\n",
    "from sklearn.manifold import TSNE\n",
    "import cv2"
   ],
   "outputs": [
    {
     "name": "stdout",
     "output_type": "stream",
     "text": [
      "DU loaded from : C:\\Users\\Pars\\Desktop\\my computer\\taha\\zohram\\Ziraxa\\project\\ML\\FarsiOCR\\model\\utils\\ds_utils.py\n"
     ]
    }
   ],
   "execution_count": 1
  },
  {
   "metadata": {
    "ExecuteTime": {
     "end_time": "2025-09-26T15:26:55.577963Z",
     "start_time": "2025-09-26T15:26:55.552904Z"
    }
   },
   "cell_type": "code",
   "source": [
    "repo = Path.cwd().parents[0]\n",
    "tfm_tr = transforms.Compose([transforms.RandomRotation(10), transforms.RandomAffine(0, translate=(0.05, 0.05)), transforms.ToTensor()])\n",
    "tfm_va = transforms.ToTensor()\n",
    "\n",
    "class DS(Dataset):\n",
    "    def __init__(self, df, root , tfm):\n",
    "        self.df = df.reset_index(drop=True); self.root = root; self.tfm = tfm\n",
    "    def __len__(self):\n",
    "        return len(self.df)\n",
    "    def __getitem__(self, i):\n",
    "        r = self.df.iloc[i]; p = self.root/\"Dataset/Create Dataset\"/r[\"image_path\"]\n",
    "        img = Image.open(p).convert(\"L\"); x = self.tfm(img)\n",
    "        y = int(r.get(\"label_id\", DU.label2idx[r[\"label\"]]))\n",
    "        return x, y\n",
    "\n",
    "df_tr = pd.read_csv(repo/\"Dataset/Create Dataset/train.csv\")\n",
    "df_va = pd.read_csv(repo/\"Dataset/Create Dataset/val.csv\")\n",
    "tr = DS(df_tr, repo, tfm_tr); va = DS(df_va, repo, tfm_va)\n",
    "tr_dl = DataLoader(tr, batch_size=64, shuffle=True); va_dl = DataLoader(va, batch_size=128)\n"
   ],
   "id": "80353f2cdc12b577",
   "outputs": [],
   "execution_count": 2
  },
  {
   "metadata": {
    "ExecuteTime": {
     "end_time": "2025-09-26T15:26:55.610426Z",
     "start_time": "2025-09-26T15:26:55.589075Z"
    }
   },
   "cell_type": "code",
   "source": [
    "class SmallCNN(nn.Module):\n",
    "    def __init__(self, ncls=32):\n",
    "        super().__init__()\n",
    "        self.net = nn.Sequential(\n",
    "            nn.Conv2d(1,32,3,padding = 1),nn.ReLU(), nn.MaxPool2d(2),\n",
    "            nn.Conv2d(32,64,3,padding = 1),nn.ReLU(), nn.MaxPool2d(2),\n",
    "            nn.Conv2d(64,128,3,padding = 1),nn.ReLU(), nn.MaxPool2d(2),\n",
    "            nn.Flatten(),nn.Linear(128*8*8, 256), nn.ReLU(), nn.Dropout(0.3),\n",
    "            nn.Linear(256, ncls)\n",
    "        )\n",
    "    def forward(self, x):\n",
    "        return self.net(x)\n",
    "\n",
    "device = torch.device(\"cuda\" if torch.cuda.is_available() else \"cpu\")\n",
    "model=SmallCNN().to(device)\n",
    "opt = torch.optim.Adam(model.parameters(), lr=1e-3)\n",
    "crit = nn.CrossEntropyLoss()"
   ],
   "id": "177287dfdc6d5037",
   "outputs": [],
   "execution_count": 3
  },
  {
   "metadata": {
    "ExecuteTime": {
     "end_time": "2025-09-26T15:35:39.967574Z",
     "start_time": "2025-09-26T15:35:31.446933Z"
    }
   },
   "cell_type": "code",
   "source": [
    "def eval_dl(mdl, dl, device):\n",
    "    mdl.eval(); ys = []; ps=[]\n",
    "    with torch.no_grad():\n",
    "        for x, y in dl:\n",
    "            x = x.to(device)\n",
    "            out = mdl(x)\n",
    "            ys.append(y.cpu().numpy())\n",
    "            ps.append(out.argmax(1).cpu().numpy())\n",
    "    y = np.concatenate(ys); p = np.concatenate(ps)\n",
    "    return DU.metrics(y, p)\n",
    "best_f1 = 0; best = None\n",
    "for epoch in range(1, 11):\n",
    "    model.train()\n",
    "    tot=0; corr = 0\n",
    "    for x, y in tr_dl:\n",
    "        x = x.to(device); y = y.to(device)\n",
    "        opt.zero_grad(); out = model(x); loss=crit(out, y);loss.backward(); opt.step()\n",
    "        tot+= y.size(0); corr += (out.argmax(1) == y).sum().item()\n",
    "    acc_train = corr/ tot\n",
    "    acc, f1m, *_ = eval_dl(model, va_dl, device)\n",
    "    print(f\"[EP{epoch}] train_acc={acc_train:.4f} val_acc={float(acc):.4f} val_f1m={float(f1m):.4f}\")\n",
    "    if f1m>best_f1: best_f1=f1m; best= {k:v.cpu().clone() for k,v in model.state_dict().items()}\n",
    "if best: model.load_state_dict(best)\n"
   ],
   "id": "dd49e3ec9c60a136",
   "outputs": [
    {
     "name": "stderr",
     "output_type": "stream",
     "text": [
      "C:\\Users\\Pars\\AppData\\Local\\Programs\\Python\\Python312\\Lib\\site-packages\\sklearn\\metrics\\_classification.py:1531: UndefinedMetricWarning: Precision is ill-defined and being set to 0.0 in labels with no predicted samples. Use `zero_division` parameter to control this behavior.\n",
      "  _warn_prf(average, modifier, f\"{metric.capitalize()} is\", len(result))\n",
      "C:\\Users\\Pars\\AppData\\Local\\Programs\\Python\\Python312\\Lib\\site-packages\\sklearn\\metrics\\_classification.py:1531: UndefinedMetricWarning: Precision is ill-defined and being set to 0.0 in labels with no predicted samples. Use `zero_division` parameter to control this behavior.\n",
      "  _warn_prf(average, modifier, f\"{metric.capitalize()} is\", len(result))\n",
      "C:\\Users\\Pars\\AppData\\Local\\Programs\\Python\\Python312\\Lib\\site-packages\\sklearn\\metrics\\_classification.py:1531: UndefinedMetricWarning: Precision is ill-defined and being set to 0.0 in labels with no predicted samples. Use `zero_division` parameter to control this behavior.\n",
      "  _warn_prf(average, modifier, f\"{metric.capitalize()} is\", len(result))\n"
     ]
    },
    {
     "ename": "ValueError",
     "evalue": "could not convert string to float: 'acc'",
     "output_type": "error",
     "traceback": [
      "\u001B[1;31m---------------------------------------------------------------------------\u001B[0m",
      "\u001B[1;31mValueError\u001B[0m                                Traceback (most recent call last)",
      "Cell \u001B[1;32mIn[9], line 21\u001B[0m\n\u001B[0;32m     19\u001B[0m     acc_train \u001B[38;5;241m=\u001B[39m corr\u001B[38;5;241m/\u001B[39m tot\n\u001B[0;32m     20\u001B[0m     acc, f1m, \u001B[38;5;241m*\u001B[39m_ \u001B[38;5;241m=\u001B[39m eval_dl(model, va_dl, device)\n\u001B[1;32m---> 21\u001B[0m     \u001B[38;5;28mprint\u001B[39m(\u001B[38;5;124mf\u001B[39m\u001B[38;5;124m\"\u001B[39m\u001B[38;5;124m[EP\u001B[39m\u001B[38;5;132;01m{\u001B[39;00mepoch\u001B[38;5;132;01m}\u001B[39;00m\u001B[38;5;124m] train_acc=\u001B[39m\u001B[38;5;132;01m{\u001B[39;00macc_train\u001B[38;5;132;01m:\u001B[39;00m\u001B[38;5;124m.4f\u001B[39m\u001B[38;5;132;01m}\u001B[39;00m\u001B[38;5;124m val_acc=\u001B[39m\u001B[38;5;132;01m{\u001B[39;00m\u001B[38;5;28;43mfloat\u001B[39;49m\u001B[43m(\u001B[49m\u001B[43macc\u001B[49m\u001B[43m)\u001B[49m\u001B[38;5;132;01m:\u001B[39;00m\u001B[38;5;124m.4f\u001B[39m\u001B[38;5;132;01m}\u001B[39;00m\u001B[38;5;124m val_f1m=\u001B[39m\u001B[38;5;132;01m{\u001B[39;00m\u001B[38;5;28mfloat\u001B[39m(f1m)\u001B[38;5;132;01m:\u001B[39;00m\u001B[38;5;124m.4f\u001B[39m\u001B[38;5;132;01m}\u001B[39;00m\u001B[38;5;124m\"\u001B[39m)\n\u001B[0;32m     22\u001B[0m     \u001B[38;5;28;01mif\u001B[39;00m f1m\u001B[38;5;241m>\u001B[39mbest_f1: best_f1\u001B[38;5;241m=\u001B[39mf1m; best\u001B[38;5;241m=\u001B[39m {k:v\u001B[38;5;241m.\u001B[39mcpu()\u001B[38;5;241m.\u001B[39mclone() \u001B[38;5;28;01mfor\u001B[39;00m k,v \u001B[38;5;129;01min\u001B[39;00m model\u001B[38;5;241m.\u001B[39mstate_dict()\u001B[38;5;241m.\u001B[39mitems()}\n\u001B[0;32m     23\u001B[0m \u001B[38;5;28;01mif\u001B[39;00m best: model\u001B[38;5;241m.\u001B[39mload_state_dict(best)\n",
      "\u001B[1;31mValueError\u001B[0m: could not convert string to float: 'acc'"
     ]
    }
   ],
   "execution_count": 9
  },
  {
   "metadata": {},
   "cell_type": "code",
   "outputs": [],
   "execution_count": null,
   "source": "",
   "id": "ef2ffea42beaa202"
  }
 ],
 "metadata": {
  "kernelspec": {
   "display_name": "Python 3",
   "language": "python",
   "name": "python3"
  },
  "language_info": {
   "codemirror_mode": {
    "name": "ipython",
    "version": 2
   },
   "file_extension": ".py",
   "mimetype": "text/x-python",
   "name": "python",
   "nbconvert_exporter": "python",
   "pygments_lexer": "ipython2",
   "version": "2.7.6"
  }
 },
 "nbformat": 4,
 "nbformat_minor": 5
}
