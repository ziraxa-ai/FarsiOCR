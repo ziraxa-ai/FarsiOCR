{
 "cells": [
  {
   "metadata": {
    "ExecuteTime": {
     "end_time": "2025-09-24T23:33:01.169891Z",
     "start_time": "2025-09-24T23:33:01.150457Z"
    }
   },
   "cell_type": "code",
   "source": [
    "import sys, platform\n",
    "from pathlib import Path"
   ],
   "id": "4e9df55b8a19dafe",
   "outputs": [],
   "execution_count": 11
  },
  {
   "metadata": {
    "ExecuteTime": {
     "end_time": "2025-09-24T23:33:01.530595Z",
     "start_time": "2025-09-24T23:33:01.526938Z"
    }
   },
   "cell_type": "code",
   "source": [
    "print(platform.python_version(), sys.version_info)\n",
    "\n"
   ],
   "id": "a127b9338f84e129",
   "outputs": [
    {
     "name": "stdout",
     "output_type": "stream",
     "text": [
      "3.12.1 sys.version_info(major=3, minor=12, micro=1, releaselevel='final', serial=0)\n"
     ]
    }
   ],
   "execution_count": 12
  },
  {
   "metadata": {
    "ExecuteTime": {
     "end_time": "2025-09-24T23:36:19.225912Z",
     "start_time": "2025-09-24T23:36:19.218883Z"
    }
   },
   "cell_type": "code",
   "source": [
    "repo = Path.cwd().parents[0]\n",
    "print(\"Repo Root:\", repo)\n",
    "\n",
    "assert (repo / \"Dataset\" / \"Create Dataset\" / \"train.csv\").exists(), \"train.csv not found!\""
   ],
   "id": "f9b7424ee13e3366",
   "outputs": [
    {
     "name": "stdout",
     "output_type": "stream",
     "text": [
      "Repo Root: C:\\Users\\Pars\\Desktop\\my computer\\taha\\zohram\\Ziraxa\\project\\ML\\FarsiOCR\n"
     ]
    }
   ],
   "execution_count": 15
  }
 ],
 "metadata": {
  "kernelspec": {
   "display_name": "Python 3",
   "language": "python",
   "name": "python3"
  },
  "language_info": {
   "codemirror_mode": {
    "name": "ipython",
    "version": 2
   },
   "file_extension": ".py",
   "mimetype": "text/x-python",
   "name": "python",
   "nbconvert_exporter": "python",
   "pygments_lexer": "ipython2",
   "version": "2.7.6"
  }
 },
 "nbformat": 4,
 "nbformat_minor": 5
}
